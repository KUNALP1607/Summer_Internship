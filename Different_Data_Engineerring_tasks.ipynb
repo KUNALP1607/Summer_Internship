{
  "cells": [
    {
      "cell_type": "markdown",
      "metadata": {
        "id": "view-in-github",
        "colab_type": "text"
      },
      "source": [
        "<a href=\"https://colab.research.google.com/github/KUNALP1607/Summer_Internship/blob/main/Different_Data_Engineerring_tasks.ipynb\" target=\"_parent\"><img src=\"https://colab.research.google.com/assets/colab-badge.svg\" alt=\"Open In Colab\"/></a>"
      ]
    },
    {
      "cell_type": "code",
      "source": [
        "import pandas as pd              #pd is an Alias\n",
        "\n",
        "#Dealing with Missing Values\n",
        "#Dealing with outliers\n",
        "#Converting into categorical or numerical\n",
        "#Dealing with Imbalance\n",
        "#Feature selection\n",
        "#Dimentionality Reduction\n",
        "\n",
        "df=pd.read_csv(\"Iris.csv\")\n",
        "\n",
        "#Preparing X and Y\n",
        "\n",
        "X = df.drop('Id', axis=1)\n",
        "X = X.drop('Species', axis=1)\n",
        "Y = df['Species']\n",
        "print(X)\n",
        "print(Y)\n",
        "\n",
        "# Feature Selection 1\n",
        "\n",
        "from sklearn.feature_selection import SelectKBest\n",
        "from sklearn.feature_selection import chi2\n",
        "\n",
        "bestfeatures = SelectKBest(score_func=chi2, k='all')\n",
        "fit = bestfeatures.fit(X,Y)\n",
        "dfscores = pd.DataFrame(fit.scores_)\n",
        "dfcolumns = pd.DataFrame(X.columns)\n",
        "featuresScores = pd.concat([dfcolumns, dfscores], axis=1)\n",
        "featuresScores.columns = ['Specs', 'Score']\n",
        "\n",
        "print(featuresScores)"
      ],
      "metadata": {
        "colab": {
          "base_uri": "https://localhost:8080/"
        },
        "id": "ezTmvljZVSKW",
        "outputId": "acc97ffc-29e1-4d36-e681-581a95a9d7a4"
      },
      "execution_count": null,
      "outputs": [
        {
          "output_type": "stream",
          "name": "stdout",
          "text": [
            "     SepalLengthCm  SepalWidthCm  PetalLengthCm  PetalWidthCm\n",
            "0              5.1           3.5            1.4           0.2\n",
            "1              4.9           3.0            1.4           0.2\n",
            "2              4.7           3.2            1.3           0.2\n",
            "3              4.6           3.1            1.5           0.2\n",
            "4              5.0           5.0            1.4           0.2\n",
            "..             ...           ...            ...           ...\n",
            "145            6.7           3.0            5.2           2.3\n",
            "146            6.3           2.5            5.0           1.9\n",
            "147            6.5           3.0            5.2           2.0\n",
            "148            6.2           3.4            5.4           2.3\n",
            "149            5.9           3.0            5.1           1.8\n",
            "\n",
            "[150 rows x 4 columns]\n",
            "0         Iris-setosa\n",
            "1         Iris-setosa\n",
            "2         Iris-setosa\n",
            "3         Iris-setosa\n",
            "4         Iris-setosa\n",
            "            ...      \n",
            "145    Iris-virginica\n",
            "146    Iris-virginica\n",
            "147    Iris-virginica\n",
            "148    Iris-virginica\n",
            "149    Iris-virginica\n",
            "Name: Species, Length: 150, dtype: object\n",
            "           Specs       Score\n",
            "0  SepalLengthCm   10.817821\n",
            "1   SepalWidthCm    3.924788\n",
            "2  PetalLengthCm  116.169847\n",
            "3   PetalWidthCm   67.244828\n"
          ]
        }
      ]
    },
    {
      "cell_type": "code",
      "source": [
        "import pandas as pd              #pd is an Alias\n",
        "\n",
        "df=pd.read_csv(\"Iris.csv\")\n",
        "\n",
        "#Preparing X and Y\n",
        "\n",
        "X = df.drop('Id', axis=1)\n",
        "X = X.drop('Species', axis=1)\n",
        "Y = df['Species']\n",
        "#print(X)\n",
        "#print(Y)\n",
        "\n",
        "#Feature Selection 2\n",
        "\n",
        "from sklearn.ensemble import ExtraTreesClassifier\n",
        "import matplotlib.pyplot as plt\n",
        "\n",
        "model = ExtraTreesClassifier()\n",
        "model.fit(X,Y)\n",
        "print(model.feature_importances_)\n",
        "\n",
        "feat_importance = pd.Series(model.feature_importances_, index=X.columns)\n",
        "feat_importance.nlargest(4).plot(kind='barh')\n",
        "plt.show()"
      ],
      "metadata": {
        "colab": {
          "base_uri": "https://localhost:8080/",
          "height": 447
        },
        "id": "AAJ2gH2nWIQM",
        "outputId": "093dc760-1b68-4e71-f43b-b316c1436f5a"
      },
      "execution_count": null,
      "outputs": [
        {
          "output_type": "stream",
          "name": "stdout",
          "text": [
            "[0.08895547 0.06002699 0.43814338 0.41287416]\n"
          ]
        },
        {
          "output_type": "display_data",
          "data": {
            "text/plain": [
              "<Figure size 640x480 with 1 Axes>"
            ],
            "image/png": "[encoded data removed]"
          },
          "metadata": {}
        }
      ]
    },
    {
      "cell_type": "code",
      "source": [
        "import pandas as pd              #pd is an Alias\n",
        "\n",
        "df=pd.read_csv(\"Iris.csv\")\n",
        "\n",
        "#Preparing X and Y\n",
        "\n",
        "X = df.drop('Id', axis=1)\n",
        "X = X.drop('Species', axis=1)\n",
        "Y = df['Species']\n",
        "\n",
        "from sklearn.preprocessing import LabelEncoder\n",
        "\n",
        "#Numerical to Categorical\n",
        "\n",
        "df['SepalLengthCm']=pd.cut(df['SepalLengthCm'],3,labels=['0','1','2'])\n",
        "df['SepalWidthCm']=pd.cut(df['SepalWidthCm'],3,labels=['0','1','2'])\n",
        "df['PetalLengthCm']=pd.cut(df['PetalLengthCm'],3,labels=['0','1','2'])\n",
        "df['PetalWidthCm']=pd.cut(df['PetalWidthCm'],3,labels=['0','1','2'])\n",
        "\n",
        "print(df)\n",
        "\n",
        "X = df.drop('Id', axis=1)\n",
        "X = X.drop('Species', axis=1)\n",
        "Y = df['Species']\n",
        "print(Y)\n",
        "le=LabelEncoder()\n",
        "le.fit(Y)\n",
        "Y = le.transform(Y)\n",
        "print(Y)"
      ],
      "metadata": {
        "colab": {
          "base_uri": "https://localhost:8080/"
        },
        "id": "cnVpYhNqY6Tl",
        "outputId": "ce640a69-8ef6-47ee-d5f8-db0cd56b19f2"
      },
      "execution_count": null,
      "outputs": [
        {
          "output_type": "stream",
          "name": "stdout",
          "text": [
            "      Id SepalLengthCm SepalWidthCm PetalLengthCm PetalWidthCm         Species\n",
            "0      1             0            1             0            0     Iris-setosa\n",
            "1      2             0            0             0            0     Iris-setosa\n",
            "2      3             0            1             0            0     Iris-setosa\n",
            "3      4             0            1             0            0     Iris-setosa\n",
            "4      5             0            2             0            0     Iris-setosa\n",
            "..   ...           ...          ...           ...          ...             ...\n",
            "145  146             1            0             2            2  Iris-virginica\n",
            "146  147             1            0             2            2  Iris-virginica\n",
            "147  148             1            0             2            2  Iris-virginica\n",
            "148  149             1            1             2            2  Iris-virginica\n",
            "149  150             1            0             2            2  Iris-virginica\n",
            "\n",
            "[150 rows x 6 columns]\n",
            "0         Iris-setosa\n",
            "1         Iris-setosa\n",
            "2         Iris-setosa\n",
            "3         Iris-setosa\n",
            "4         Iris-setosa\n",
            "            ...      \n",
            "145    Iris-virginica\n",
            "146    Iris-virginica\n",
            "147    Iris-virginica\n",
            "148    Iris-virginica\n",
            "149    Iris-virginica\n",
            "Name: Species, Length: 150, dtype: object\n",
            "[0 0 0 0 0 0 0 0 0 0 0 0 0 0 0 0 0 0 0 0 0 0 0 0 0 0 0 0 0 0 0 0 0 0 0 0 0\n",
            " 0 0 0 0 0 0 0 0 0 0 0 0 0 1 1 1 1 1 1 1 1 1 1 1 1 1 1 1 1 1 1 1 1 1 1 1 1\n",
            " 1 1 1 1 1 1 1 1 1 1 1 1 1 1 1 1 1 1 1 1 1 1 1 1 1 1 2 2 2 2 2 2 2 2 2 2 2\n",
            " 2 2 2 2 2 2 2 2 2 2 2 2 2 2 2 2 2 2 2 2 2 2 2 2 2 2 2 2 2 2 2 2 2 2 2 2 2\n",
            " 2 2]\n"
          ]
        }
      ]
    },
    {
      "cell_type": "code",
      "source": [
        "import pandas as pd              #pd is an Alias\n",
        "\n",
        "df=pd.read_csv(\"Iris.csv\")\n",
        "\n",
        "#Preparing X and Y\n",
        "\n",
        "X = df.drop('Id', axis=1)\n",
        "X = X.drop('Species', axis=1)\n",
        "Y = df['Species']\n",
        "\n",
        "#Categorical to Numerical\n",
        "\n",
        "le=LabelEncoder()\n",
        "le.fit(Y)\n",
        "Y = le.transform(Y)\n",
        "print(Y)\n",
        "print(df)\n"
      ],
      "metadata": {
        "colab": {
          "base_uri": "https://localhost:8080/"
        },
        "id": "xQ4ulVA6Z9ME",
        "outputId": "c472ce15-0ed5-49b0-b928-9085c9e42a32"
      },
      "execution_count": null,
      "outputs": [
        {
          "output_type": "stream",
          "name": "stdout",
          "text": [
            "[0 0 0 0 0 0 0 0 0 0 0 0 0 0 0 0 0 0 0 0 0 0 0 0 0 0 0 0 0 0 0 0 0 0 0 0 0\n",
            " 0 0 0 0 0 0 0 0 0 0 0 0 0 1 1 1 1 1 1 1 1 1 1 1 1 1 1 1 1 1 1 1 1 1 1 1 1\n",
            " 1 1 1 1 1 1 1 1 1 1 1 1 1 1 1 1 1 1 1 1 1 1 1 1 1 1 2 2 2 2 2 2 2 2 2 2 2\n",
            " 2 2 2 2 2 2 2 2 2 2 2 2 2 2 2 2 2 2 2 2 2 2 2 2 2 2 2 2 2 2 2 2 2 2 2 2 2\n",
            " 2 2]\n",
            "      Id  SepalLengthCm  SepalWidthCm  PetalLengthCm  PetalWidthCm  \\\n",
            "0      1            5.1           3.5            1.4           0.2   \n",
            "1      2            4.9           3.0            1.4           0.2   \n",
            "2      3            4.7           3.2            1.3           0.2   \n",
            "3      4            4.6           3.1            1.5           0.2   \n",
            "4      5            5.0           5.0            1.4           0.2   \n",
            "..   ...            ...           ...            ...           ...   \n",
            "145  146            6.7           3.0            5.2           2.3   \n",
            "146  147            6.3           2.5            5.0           1.9   \n",
            "147  148            6.5           3.0            5.2           2.0   \n",
            "148  149            6.2           3.4            5.4           2.3   \n",
            "149  150            5.9           3.0            5.1           1.8   \n",
            "\n",
            "            Species  \n",
            "0       Iris-setosa  \n",
            "1       Iris-setosa  \n",
            "2       Iris-setosa  \n",
            "3       Iris-setosa  \n",
            "4       Iris-setosa  \n",
            "..              ...  \n",
            "145  Iris-virginica  \n",
            "146  Iris-virginica  \n",
            "147  Iris-virginica  \n",
            "148  Iris-virginica  \n",
            "149  Iris-virginica  \n",
            "\n",
            "[150 rows x 6 columns]\n"
          ]
        }
      ]
    },
    {
      "cell_type": "code",
      "source": [
        "import pandas as pd              #pd is an Alias\n",
        "\n",
        "df=pd.read_csv(\"Iris.csv\")\n",
        "\n",
        "#Preparing X and Y\n",
        "\n",
        "X = df.drop('Id', axis=1)\n",
        "X = X.drop('Species', axis=1)\n",
        "Y = df['Species']\n",
        "#print(X)\n",
        "#print(Y)\n",
        "\n",
        "#Oversampling and Under Sampling\n",
        "\n",
        "#a = (df['Species'] == 'Iris-setosa').sum()\n",
        "#print(a)\n",
        "from collections import Counter\n",
        "print(Counter(Y))\n",
        "from imblearn.over_sampling import RandomOverSampler     #Random OverSampling\n",
        "ros=RandomOverSampler(random_state=0)\n",
        "X, Y = ros.fit_resample(X,Y)\n",
        "print(Counter(Y))"
      ],
      "metadata": {
        "colab": {
          "base_uri": "https://localhost:8080/"
        },
        "id": "6rg2NtdBa5Wo",
        "outputId": "33f0bbe5-d793-45b6-a3c5-1300edf94f78"
      },
      "execution_count": null,
      "outputs": [
        {
          "output_type": "stream",
          "name": "stdout",
          "text": [
            "Counter({'Iris-setosa': 50, 'Iris-versicolor': 50, 'Iris-virginica': 50})\n",
            "Counter({'Iris-setosa': 50, 'Iris-versicolor': 50, 'Iris-virginica': 50})\n"
          ]
        }
      ]
    },
    {
      "cell_type": "code",
      "source": [
        "from imblearn.over_sampling import SMOTE                 #Synthetic Minority Oversampling (SMOTE) oversampling\n",
        "sms=SMOTE(random_state=0)\n",
        "X, Y=sms.fit_resample(X,Y)\n",
        "\n",
        "from imblearn.under_sampling import RandomUnderSampler   #Random UnderSampling\n",
        "rus=RandomUnderSampler(random_state=0)\n",
        "X, Y=rus.fit_resample(X,Y)"
      ],
      "metadata": {
        "id": "Z46zexqkkApY"
      },
      "execution_count": null,
      "outputs": []
    },
    {
      "cell_type": "code",
      "source": [
        "#Identifying Outliers by ploting\n",
        "\n",
        "from matplotlib import pyplot as plt\n",
        "import seaborn as sns\n",
        "sns.boxplot(df['SepalLengthCm'])\n",
        "plt.show()"
      ],
      "metadata": {
        "colab": {
          "base_uri": "https://localhost:8080/",
          "height": 411
        },
        "id": "VUhFg6BUkIzE",
        "outputId": "e1a5dada-e481-4351-dcf9-01f7d1fd6b17"
      },
      "execution_count": null,
      "outputs": [
        {
          "output_type": "display_data",
          "data": {
            "text/plain": [
              "<Figure size 640x480 with 1 Axes>"
            ],
            "image/png": "[encoded data removed]"
          },
          "metadata": {}
        }
      ]
    },
    {
      "cell_type": "code",
      "source": [
        "#Dealing with Outliers using Interquantile Range\n",
        "\n",
        "print(df['SepalLengthCm'])\n",
        "Q1 = df['SepalLengthCm'].quantile(0.25)\n",
        "Q3 = df['SepalLengthCm'].quantile(0.75)\n",
        "\n",
        "IQR = Q3 - Q1\n",
        "print(IQR)\n",
        "\n",
        "upper = Q3 + 1.5*IQR\n",
        "lower = Q1 - 1.5*IQR\n",
        "\n",
        "print(upper)\n",
        "print(lower)\n",
        "\n",
        "out1=df[df['SepalLengthCm'] < lower].values\n",
        "out2=df[df['SepalLengthCm'] > upper].values\n",
        "\n",
        "df['SepalLengthCm'].replace(out1,lower,inplace=True)\n",
        "df['SepalLengthCm'].replace(out2,upper,inplace=True)\n",
        "\n",
        "print(df['SepalLengthCm'])"
      ],
      "metadata": {
        "colab": {
          "base_uri": "https://localhost:8080/"
        },
        "id": "m2kmcE2AkNTF",
        "outputId": "c1d95675-9fda-4c68-f7d8-274620773cf3"
      },
      "execution_count": null,
      "outputs": [
        {
          "output_type": "stream",
          "name": "stdout",
          "text": [
            "0      5.1\n",
            "1      4.9\n",
            "2      4.7\n",
            "3      4.6\n",
            "4      5.0\n",
            "      ... \n",
            "145    6.7\n",
            "146    6.3\n",
            "147    6.5\n",
            "148    6.2\n",
            "149    5.9\n",
            "Name: SepalLengthCm, Length: 150, dtype: float64\n",
            "1.3000000000000007\n",
            "8.350000000000001\n",
            "3.1499999999999986\n",
            "0      5.1\n",
            "1      4.9\n",
            "2      4.7\n",
            "3      4.6\n",
            "4      5.0\n",
            "      ... \n",
            "145    6.7\n",
            "146    6.3\n",
            "147    6.5\n",
            "148    6.2\n",
            "149    5.9\n",
            "Name: SepalLengthCm, Length: 150, dtype: float64\n"
          ]
        }
      ]
    },
    {
      "cell_type": "code",
      "source": [
        "#Principal Component Analysis\n",
        "\n",
        "from sklearn.decomposition import PCA\n",
        "from sklearn.linear_model import LogisticRegression\n",
        "from sklearn.model_selection import train_test_split\n",
        "from sklearn.metrics import accuracy_score\n",
        "\n",
        "logr=LogisticRegression()\n",
        "pca=PCA(n_components=2)\n",
        "\n",
        "X = df.drop('Id', axis=1)\n",
        "X = X.drop('Species', axis=1)\n",
        "Y = df['Species']\n",
        "\n",
        "pca.fit(X)\n",
        "X=pca.transform(X)\n",
        "\n",
        "print(X)\n",
        "\n",
        "X_train, X_test, y_train, y_test = train_test_split(X,Y,random_state=0,test_size=0.3)\n",
        "\n",
        "logr.fit(X_train,y_train)\n",
        "\n",
        "y_pred=logr.predict(X_test)\n",
        "print(accuracy_score(y_test,y_pred))"
      ],
      "metadata": {
        "colab": {
          "base_uri": "https://localhost:8080/"
        },
        "id": "J476tGwUkhG4",
        "outputId": "73ec4f6b-5768-45dc-fcd2-12d1def36661"
      },
      "execution_count": null,
      "outputs": [
        {
          "output_type": "stream",
          "name": "stdout",
          "text": [
            "[[-2.6848589   0.3040134 ]\n",
            " [-2.71266172 -0.20239866]\n",
            " [-2.88829803 -0.15851199]\n",
            " [-2.744302   -0.32874741]\n",
            " [-2.85430657  1.38709388]\n",
            " [-2.28347181  0.73671758]\n",
            " [-2.82071774 -0.09003773]\n",
            " [-2.62647786  0.1495621 ]\n",
            " [-2.88438488 -0.59029766]\n",
            " [-2.67179941 -0.13567141]\n",
            " [-2.50865372  0.6278716 ]\n",
            " [-2.61310747  0.00916208]\n",
            " [-2.78464835 -0.25855448]\n",
            " [-3.22210484 -0.52274191]\n",
            " [-2.64767455  1.15353345]\n",
            " [-2.39077666  1.33700582]\n",
            " [-2.62593177  0.79985403]\n",
            " [-2.64899458  0.29786127]\n",
            " [-2.20208086  0.85343434]\n",
            " [-2.59004466  0.51115484]\n",
            " [-2.31075866  0.36722569]\n",
            " [-2.54529198  0.42864348]\n",
            " [-3.21681874  0.13196931]\n",
            " [-2.30264425  0.08548621]\n",
            " [-2.3562625  -0.03819027]\n",
            " [-2.50530944 -0.17165893]\n",
            " [-2.46913422  0.12147373]\n",
            " [-2.56312161  0.35053724]\n",
            " [-2.63984824  0.28996212]\n",
            " [-2.63145306 -0.20586434]\n",
            " [-2.5864424  -0.21991561]\n",
            " [-2.41026     0.38648966]\n",
            " [-2.65231608  0.81484474]\n",
            " [-2.60258819  1.08775982]\n",
            " [-2.67179941 -0.13567141]\n",
            " [-2.86554611  0.04419598]\n",
            " [-2.62598468  0.56902933]\n",
            " [-2.67179941 -0.13567141]\n",
            " [-2.97888823 -0.49815432]\n",
            " [-2.59035555  0.21187005]\n",
            " [-2.77073187  0.25133743]\n",
            " [-2.8446831  -0.97651309]\n",
            " [-2.99666494 -0.34543586]\n",
            " [-2.40629393  0.1855287 ]\n",
            " [-2.21172038  0.44186626]\n",
            " [-2.7129197  -0.27085874]\n",
            " [-2.540294    0.50152286]\n",
            " [-2.83880535 -0.23660406]\n",
            " [-2.54477602  0.56556365]\n",
            " [-2.70320449  0.08898698]\n",
            " [ 1.2837965   0.66408554]\n",
            " [ 0.93169702  0.31565391]\n",
            " [ 1.46365686  0.487698  ]\n",
            " [ 0.18678791 -0.84112591]\n",
            " [ 1.08898775  0.05674084]\n",
            " [ 0.64266568 -0.41363443]\n",
            " [ 1.09378067  0.29198483]\n",
            " [-0.74573217 -1.00966923]\n",
            " [ 1.04449305  0.20771228]\n",
            " [-0.00688309 -0.71298087]\n",
            " [-0.50282645 -1.28436642]\n",
            " [ 0.51201725 -0.10125197]\n",
            " [ 0.26869482 -0.58748898]\n",
            " [ 0.98536085 -0.12576374]\n",
            " [-0.17287989 -0.25752613]\n",
            " [ 0.92747298  0.44815479]\n",
            " [ 0.66049531 -0.33552818]\n",
            " [ 0.23762341 -0.34609286]\n",
            " [ 0.94833599 -0.57255428]\n",
            " [ 0.04778986 -0.59801113]\n",
            " [ 1.11552345 -0.06169459]\n",
            " [ 0.35907995 -0.08548204]\n",
            " [ 1.30025319 -0.3443051 ]\n",
            " [ 0.92252056 -0.18981871]\n",
            " [ 0.71540347  0.13044871]\n",
            " [ 0.90023903  0.30948761]\n",
            " [ 1.33272032  0.2182486 ]\n",
            " [ 1.55764425  0.25863449]\n",
            " [ 0.81387288 -0.16265559]\n",
            " [-0.30330048 -0.39005536]\n",
            " [-0.06505907 -0.7208942 ]\n",
            " [-0.18653839 -0.69895795]\n",
            " [ 0.13812208 -0.32682889]\n",
            " [ 1.38120387 -0.41623086]\n",
            " [ 0.58825071 -0.46014409]\n",
            " [ 0.80529542  0.21298843]\n",
            " [ 1.22018227  0.39465032]\n",
            " [ 0.8182263  -0.40579873]\n",
            " [ 0.2463067  -0.26008747]\n",
            " [ 0.1690112  -0.68840745]\n",
            " [ 0.46671848 -0.66903255]\n",
            " [ 0.8908575  -0.03362039]\n",
            " [ 0.23262543 -0.41897223]\n",
            " [-0.70072151 -1.0237205 ]\n",
            " [ 0.35858677 -0.50494927]\n",
            " [ 0.33217967 -0.2074115 ]\n",
            " [ 0.37693236 -0.28992286]\n",
            " [ 0.64315886  0.0058328 ]\n",
            " [-0.90335657 -0.76749387]\n",
            " [ 0.30020572 -0.35049797]\n",
            " [ 2.52955445  0.03142219]\n",
            " [ 1.41655223 -0.55930316]\n",
            " [ 2.61612567  0.34120077]\n",
            " [ 1.97159766 -0.16781337]\n",
            " [ 2.34964118 -0.02301497]\n",
            " [ 3.39604212  0.54225175]\n",
            " [ 0.52380962 -1.16578426]\n",
            " [ 2.93212563  0.34477738]\n",
            " [ 2.32287029 -0.25558669]\n",
            " [ 2.9136051   0.80548736]\n",
            " [ 1.66083089  0.25249654]\n",
            " [ 1.80451603 -0.21702366]\n",
            " [ 2.1652988   0.21741336]\n",
            " [ 1.34845597 -0.76469758]\n",
            " [ 1.58698549 -0.51370457]\n",
            " [ 1.90353153  0.14016397]\n",
            " [ 1.94933892  0.04894588]\n",
            " [ 3.48253688  1.19349729]\n",
            " [ 3.79629147  0.23946618]\n",
            " [ 1.30416634 -0.77609076]\n",
            " [ 2.42660301  0.38856729]\n",
            " [ 1.20005361 -0.58214374]\n",
            " [ 3.49969181  0.44220926]\n",
            " [ 1.39006944 -0.21004303]\n",
            " [ 2.2737414   0.35261487]\n",
            " [ 2.61249328  0.55889945]\n",
            " [ 1.25944379 -0.18020764]\n",
            " [ 1.29115976 -0.10558125]\n",
            " [ 2.12420129 -0.20032103]\n",
            " [ 2.38731137  0.45005348]\n",
            " [ 2.84177063  0.35614221]\n",
            " [ 3.22620787  1.3777698 ]\n",
            " [ 2.16006561 -0.20647316]\n",
            " [ 1.4448181  -0.14679564]\n",
            " [ 1.78256083 -0.49689845]\n",
            " [ 3.07581812  0.67117601]\n",
            " [ 2.14234181  0.17707001]\n",
            " [ 1.90432826  0.06299716]\n",
            " [ 1.16942247 -0.15210509]\n",
            " [ 2.10691775  0.37186466]\n",
            " [ 2.3134961   0.19722414]\n",
            " [ 1.92180143  0.40691275]\n",
            " [ 1.41655223 -0.55930316]\n",
            " [ 2.56171069  0.29469111]\n",
            " [ 2.4171987   0.32800635]\n",
            " [ 1.94406017  0.19015349]\n",
            " [ 1.52932547 -0.38469773]\n",
            " [ 1.76422259  0.08399397]\n",
            " [ 1.8991252   0.15248241]\n",
            " [ 1.39014514 -0.26176539]]\n",
            "0.9777777777777777\n"
          ]
        }
      ]
    }
  ],
  "metadata": {
    "colab": {
      "provenance": [],
      "authorship_tag": "ABX9TyNPSYgD5SpTOV0bE7IwWQvK",
      "include_colab_link": true
    },
    "kernelspec": {
      "display_name": "Python 3",
      "name": "python3"
    },
    "language_info": {
      "name": "python"
    }
  },
  "nbformat": 4,
  "nbformat_minor": 0
}